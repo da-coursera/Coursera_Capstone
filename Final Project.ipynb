{
 "cells": [
  {
   "cell_type": "markdown",
   "metadata": {},
   "source": [
    "<h1>Coursera - Applied Data Science Capstone"
   ]
  },
  {
   "cell_type": "markdown",
   "metadata": {},
   "source": [
    "<h3><b><u>Introduction</b></u></h3>"
   ]
  },
  {
   "cell_type": "markdown",
   "metadata": {},
   "source": [
    "\n",
    "\n",
    "<p>London is the capital of the United Kingdom. With a Metropolitan area spanning 3.2 thousand square miles & a population of 14 million people London exerts significant influence in areas such as finance, politics, the arts, culture & sport. Amongst this the London Underground is central to enabling London to function on a daily basis.</p>\n",
    "\n",
    "<p>The London Underground first opened in 1863 & now operates 270 stations. With an estimates 5 million people travelling each day it is central to ensuring London functions smoothly. With such high importance proximity to a station can have a major impact on any decision.</p>\n",
    "\n",
    "<p>My project will focus on reviewing the area around tube stations & clustering these together. This would allow those looking to expand a business to identify areas most suitable for opening</p>"
   ]
  },
  {
   "cell_type": "markdown",
   "metadata": {},
   "source": [
    "<h3><b><u>Data</u></b></h3>"
   ]
  },
  {
   "cell_type": "markdown",
   "metadata": {},
   "source": [
    "\n",
    "\n",
    "<p>Data will be primarily pulled from the foursquare API, in particular the venues end point</p>\n",
    "<p>Additionally if required I will source tube location data from <a href =\"https://wiki.openstreetmap.org/wiki/List_of_London_Underground_stations\"> Open Street Map</a> "
   ]
  }
 ],
 "metadata": {
  "kernelspec": {
   "display_name": "Python 3",
   "language": "python",
   "name": "python3"
  },
  "language_info": {
   "codemirror_mode": {
    "name": "ipython",
    "version": 3
   },
   "file_extension": ".py",
   "mimetype": "text/x-python",
   "name": "python",
   "nbconvert_exporter": "python",
   "pygments_lexer": "ipython3",
   "version": "3.6.5"
  }
 },
 "nbformat": 4,
 "nbformat_minor": 2
}
